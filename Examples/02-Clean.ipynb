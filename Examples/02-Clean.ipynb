{
 "cells": [
  {
   "cell_type": "markdown",
   "metadata": {},
   "source": [
    "Post-processing CrossFit Open data \n",
    "=====\n",
    "\n",
    "Author: [Ray Bell](https://github.com/raybellwaves)\n",
    "\n",
    "#### The Class object `clean` is used to post-process/clean downloaded Crossfit Open data."
   ]
  },
  {
   "cell_type": "markdown",
   "metadata": {},
   "source": [
    "If you are doing any data analysis it worth getting your ducks in a row from the start. That is once you have you data organised the world is your oyster in terms of analysis. The `Clean` class does this and converts the ___raw__ files into coherent data files used for analysis in python. "
   ]
  },
  {
   "cell_type": "markdown",
   "metadata": {},
   "source": [
    "`Clean` works by:\n",
    "\n",
    "    Dropping any atheletes who did not enter a score.\n",
    "    Dropping atheltes who enter a mixture of Rx and Sc scores.\n",
    "    Convert athletes height and wegith to SI units.\n",
    "    Replaces missing scores with np.nan.\n",
    "    Convert times e.g. 11:59 to a pd.Timedelta.\n",
    "    Convert reps to integers.\n",
    "    For wods where athletes enter a mixture of time and reps e.g. athlete A scored 06:58 whereas athelte B scored 98 reps it gives a prediction of time to reps and reps to time. This allows you to do stats on the whole distribution."
   ]
  },
  {
   "cell_type": "code",
   "execution_count": 1,
   "metadata": {},
   "outputs": [],
   "source": [
    "import cfanalytics as cfa"
   ]
  },
  {
   "cell_type": "code",
   "execution_count": 2,
   "metadata": {},
   "outputs": [
    {
     "name": "stdout",
     "output_type": "stream",
     "text": [
      "/Volumes/SAMSUNG/WORK/CFanalytics_2017/GitHub_folder/cfanalytics/examples/Data/Girls_14-15_Rx_2018_raw\n"
     ]
    }
   ],
   "source": [
    "import os\n",
    "ddir = os.getcwd()+'/Data/'\n",
    "if not os.path.isdir(ddir):\n",
    "    os.makedirs(ddir)\n",
    "file = 'Girls_14-15_Rx_2018_raw'\n",
    "path = ddir + file\n",
    "print(path)"
   ]
  },
  {
   "cell_type": "markdown",
   "metadata": {},
   "source": [
    "Then run as `cfa.Clean(path)`."
   ]
  }
 ],
 "metadata": {
  "kernelspec": {
   "display_name": "Python 3",
   "language": "python",
   "name": "python3"
  },
  "language_info": {
   "codemirror_mode": {
    "name": "ipython",
    "version": 3
   },
   "file_extension": ".py",
   "mimetype": "text/x-python",
   "name": "python",
   "nbconvert_exporter": "python",
   "pygments_lexer": "ipython3",
   "version": "3.6.4"
  }
 },
 "nbformat": 4,
 "nbformat_minor": 2
}
