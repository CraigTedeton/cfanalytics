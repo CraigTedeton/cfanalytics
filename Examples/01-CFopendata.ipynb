{
 "cells": [
  {
   "cell_type": "markdown",
   "metadata": {},
   "source": [
    "Downloading CrossFit Open data \n",
    "=====\n",
    "\n",
    "Author: [Ray Bell](https://github.com/raybellwaves)\n",
    "\n",
    "#### The Class object `cfopendata` is used to download Crossfit Open data from the [mainsite](https://games.crossfit.com/leaderboard/open/2017?division=1&region=0&scaled=0&sort=0&occupation=0&page=1)."
   ]
  },
  {
   "cell_type": "code",
   "execution_count": 1,
   "metadata": {},
   "outputs": [],
   "source": [
    "import cfanalytics as cfa"
   ]
  },
  {
   "cell_type": "markdown",
   "metadata": {},
   "source": [
    "The paramters for `Cfopendata` are as follows (in bold):\n",
    "\n",
    "__year__ : 2011 - 2018\n",
    "\n",
    "Let's grab this years results (only tested on 2018 and 2017 to a limited degree):"
   ]
  },
  {
   "cell_type": "code",
   "execution_count": 2,
   "metadata": {},
   "outputs": [
    {
     "name": "stdout",
     "output_type": "stream",
     "text": [
      "2018\n"
     ]
    }
   ],
   "source": [
    "year = 2018\n",
    "print(year)"
   ]
  },
  {
   "cell_type": "markdown",
   "metadata": {},
   "source": [
    "__division__\n",
    "\n",
    "The CrossFit Open has divisions which are assigned numerical values:\n",
    "    \n",
    "1. = Men\n",
    "2. = Women\n",
    "3. = Men 45-49\n",
    "4. = Women 45-49\n",
    "5. = Men 50-54\n",
    "6. = Women 50-54\n",
    "7. = Men 55-59\n",
    "8. = Women 55-59\n",
    "9. = Men 60+\n",
    "10. = Women 60+\n",
    "11. = Team\n",
    "12. = Men 40-44\n",
    "13. = Women 40-44\n",
    "14. = Boys 14-15\n",
    "15. = Girls 14-15\n",
    "16. = Boys 16-17\n",
    "17. = Girls 16-17\n",
    "18. = Men 35-39\n",
    "19. = Women 35-39\n",
    "\n",
    "Let's grab the division with the least number of entries (Girls 14-15) to make sure we can download some data."
   ]
  },
  {
   "cell_type": "code",
   "execution_count": 3,
   "metadata": {},
   "outputs": [
    {
     "name": "stdout",
     "output_type": "stream",
     "text": [
      "15\n"
     ]
    }
   ],
   "source": [
    "division = 15\n",
    "print(division)"
   ]
  },
  {
   "cell_type": "markdown",
   "metadata": {},
   "source": [
    "__scaled__ : 0 or 1\n",
    "\n",
    "0 indicates if the workout is prescribed (Rx) or scaled (Sc).\n",
    "\n",
    "Let's grab the Rx data."
   ]
  },
  {
   "cell_type": "code",
   "execution_count": 4,
   "metadata": {},
   "outputs": [
    {
     "name": "stdout",
     "output_type": "stream",
     "text": [
      "0\n"
     ]
    }
   ],
   "source": [
    "scaled = 0\n",
    "print(scaled)"
   ]
  },
  {
   "cell_type": "markdown",
   "metadata": {},
   "source": [
    "These parameters are used to obtain data which are uploaded to the CrossFit games server. To look at the raw JSON data for these parameters take a look at this [url](https://games.crossfit.com/competitions/api/v1/competitions/open/2018/leaderboards?page=1&competition=1&year=2018&division=15&scaled=0&sort=0&fittest=1&fittest1=0&occupation=0) which will correspond which are displayed in a legible format at the [main website](https://games.crossfit.com/leaderboard/open/2018?division=15&region=0&scaled=0&sort=0&occupation=0&page=1)."
   ]
  },
  {
   "cell_type": "markdown",
   "metadata": {},
   "source": [
    "__ddir__ is the data directory where we want the data downloaded to. It is encouraged to create a folder named *Data* and store the data there. In a later example... code looks for files in the *Data* directory."
   ]
  },
  {
   "cell_type": "code",
   "execution_count": 5,
   "metadata": {},
   "outputs": [
    {
     "name": "stdout",
     "output_type": "stream",
     "text": [
      "/Volumes/SAMSUNG/WORK/CFanalytics_2017/GitHub_folder/cfanalytics/examples/Data\n"
     ]
    }
   ],
   "source": [
    "import os\n",
    "ddir = os.getcwd()+'/Data'\n",
    "if not os.path.isdir(ddir):\n",
    "    os.makedirs(ddir)\n",
    "print(ddir)"
   ]
  },
  {
   "cell_type": "markdown",
   "metadata": {},
   "source": [
    "To speed up downloading the data, the pages are called *asynchronously* (concurrent tasks). Here's a nice [blog](https://hackernoon.com/asyncio-for-the-working-python-developer-5c468e6e2e8e) explaining [asyncio](https://docs.python.org/3.4/library/asyncio.html). This image is a nice visulization of synchronous vs asynchronous: <img src=\"files/HTTP_pipelining2.svg\"> Image taken from [wikipedia](https://en.wikipedia.org/wiki/HTTP_pipelining#/media/File:HTTP_pipelining2.svg)."
   ]
  },
  {
   "cell_type": "markdown",
   "metadata": {},
   "source": [
    "Now I can download the data using `Cfopendata` as `cfa.Cfopendata(year, division, scaled, ddir)`. This example is playn"
   ]
  },
  {
   "cell_type": "markdown",
   "metadata": {},
   "source": [
    "A file in /Data now exists named __Girls_14-15_Rx_2017_raw__ which is a `pandas.Dataframe` and __Girls_14-15_Rx_2017_raw.csv__.\n",
    "\n",
    "Open it up by either double clicking it (which may open it in excel) or (better yet) try the new [jupyter lab](https://github.com/jupyterlab/jupyterlab)."
   ]
  }
 ],
 "metadata": {
  "kernelspec": {
   "display_name": "Python 3",
   "language": "python",
   "name": "python3"
  },
  "language_info": {
   "codemirror_mode": {
    "name": "ipython",
    "version": 3
   },
   "file_extension": ".py",
   "mimetype": "text/x-python",
   "name": "python",
   "nbconvert_exporter": "python",
   "pygments_lexer": "ipython3",
   "version": "3.6.4"
  }
 },
 "nbformat": 4,
 "nbformat_minor": 2
}
