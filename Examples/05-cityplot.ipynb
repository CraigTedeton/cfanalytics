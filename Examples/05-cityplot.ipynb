{
 "cells": [
  {
   "cell_type": "markdown",
   "metadata": {},
   "source": [
    "Ploting CrossFit Open data for a city\n",
    "=====\n",
    "\n",
    "Author: [Ray Bell](https://github.com/raybellwaves)\n",
    "\n",
    "#### The Class object `Cfplot().cityplot()` is used to plot Crossfit Open data for a city."
   ]
  },
  {
   "cell_type": "markdown",
   "metadata": {},
   "source": [
    "This uses the latitude and longitude of the affilatates obtained in `Affiliatelist` and plotting is done using [`salem`](https://github.com/fmaussion/salem). It compares rankings for any wods or overall rank."
   ]
  },
  {
   "cell_type": "markdown",
   "metadata": {},
   "source": [
    "The first input is the file e.g. : __Women_Rx_2018__"
   ]
  },
  {
   "cell_type": "code",
   "execution_count": 2,
   "metadata": {},
   "outputs": [
    {
     "name": "stdout",
     "output_type": "stream",
     "text": [
      "/Volumes/SAMSUNG/WORK/CFanalytics_2017/GitHub_folder/cfanalytics/examples/Data/Women_Rx_2018\n"
     ]
    }
   ],
   "source": [
    "import cfanalytics as cfa\n",
    "import os\n",
    "ddir = os.getcwd()+'/Data/'\n",
    "if not os.path.isdir(ddir):\n",
    "    os.makedirs(ddir)\n",
    "file = 'Women_Rx_2018'\n",
    "path = ddir + file\n",
    "print(path)"
   ]
  },
  {
   "cell_type": "markdown",
   "metadata": {},
   "source": [
    "You can choose a city as long as it in [Affiliate_list.csv](https://github.com/raybellwaves/cfanalytics/blob/master/Data/Affiliate_list.csv) and people entered scores for the open. e.g. __Miami__ Some gyms in [Affiliate_list.csv](https://github.com/raybellwaves/cfanalytics/blob/master/Data/Affiliate_list.csv) don't have latitude and longitude points associated with then and therefore they are not plotted."
   ]
  },
  {
   "cell_type": "markdown",
   "metadata": {},
   "source": [
    "Next you can choose either the wods of overall rank e.g. __Overall_rank__"
   ]
  },
  {
   "cell_type": "markdown",
   "metadata": {},
   "source": [
    "Lastly, you can choose the method of averaging the data. *Only P0 is implemented an the moment. e.g. To find who one for each gym and their ranking you could choose the minimun percentile __P0__"
   ]
  },
  {
   "cell_type": "markdown",
   "metadata": {},
   "source": [
    "You can run this as `Cfplot(path).cityplot(city=Miami', column='Overall_rank', how='P0')`"
   ]
  },
  {
   "cell_type": "markdown",
   "metadata": {},
   "source": [
    "and it will create a plot in a directory named `Plots`. The plot can be found [here](https://github.com/raybellwaves/cfanalytics/blob/master/Plots/Women_Rx_2018_Miami_Overall_rank_P0.1.png)."
   ]
  }
 ],
 "metadata": {
  "kernelspec": {
   "display_name": "Python 3",
   "language": "python",
   "name": "python3"
  },
  "language_info": {
   "codemirror_mode": {
    "name": "ipython",
    "version": 3
   },
   "file_extension": ".py",
   "mimetype": "text/x-python",
   "name": "python",
   "nbconvert_exporter": "python",
   "pygments_lexer": "ipython3",
   "version": "3.6.4"
  }
 },
 "nbformat": 4,
 "nbformat_minor": 2
}
