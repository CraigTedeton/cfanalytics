{
 "cells": [
  {
   "cell_type": "markdown",
   "metadata": {},
   "source": [
    "Ploting CrossFit Open data for the regions\n",
    "=====\n",
    "\n",
    "Author: [Ray Bell](https://github.com/raybellwaves)\n",
    "\n",
    "#### The Class object `Cfplot().regionplot()` is used to plot Crossfit Open data for the region."
   ]
  },
  {
   "cell_type": "markdown",
   "metadata": {},
   "source": [
    "This uses the regions defined [here](https://games-support.crossfit.com/article/100-what-are-the-boundaries-of-the-crossfit-games-regions-what-states-countries-are-included-in-each) and plotting is done using [`cartopy`](https://github.com/SciTools/cartopy) and the shape files from [natural earth](http://www.naturalearthdata.com/). It compares rankings for any wods or overall rank."
   ]
  },
  {
   "cell_type": "markdown",
   "metadata": {},
   "source": [
    "The first input is the file e.g. : __Men_Rx_2018__"
   ]
  },
  {
   "cell_type": "code",
   "execution_count": 1,
   "metadata": {},
   "outputs": [
    {
     "name": "stdout",
     "output_type": "stream",
     "text": [
      "/Volumes/SAMSUNG/WORK/CFanalytics_2017/GitHub_folder/cfanalytics/examples/Data/Men_Rx_2018\n"
     ]
    }
   ],
   "source": [
    "import cfanalytics as cfa\n",
    "import os\n",
    "ddir = os.getcwd()+'/Data/'\n",
    "if not os.path.isdir(ddir):\n",
    "    os.makedirs(ddir)\n",
    "file = 'Men_Rx_2018'\n",
    "path = ddir + file\n",
    "print(path)"
   ]
  },
  {
   "cell_type": "markdown",
   "metadata": {},
   "source": [
    "Next you can choose either the wods of overall rank e.g. __Overall_rank__"
   ]
  },
  {
   "cell_type": "markdown",
   "metadata": {},
   "source": [
    "Lastly, you can choose the method of averaging the data. *Only percentile is implemented an the moment but P0* will show who won. e.g. To look at the top level (regional) atheletes you could choose the top 0.01 percentile __P0.1__"
   ]
  },
  {
   "cell_type": "markdown",
   "metadata": {},
   "source": [
    "You can run this as `Cfplot(path).regionplot(column='Overall_rank', how='P0.1')`"
   ]
  },
  {
   "cell_type": "markdown",
   "metadata": {},
   "source": [
    "and it will create a plot in a directory named `Plots`. The plot can be found [here](https://github.com/raybellwaves/cfanalytics/blob/master/Plots/Men_Rx_2018_Overall_rank_P0.1.png)."
   ]
  }
 ],
 "metadata": {
  "kernelspec": {
   "display_name": "Python 3",
   "language": "python",
   "name": "python3"
  },
  "language_info": {
   "codemirror_mode": {
    "name": "ipython",
    "version": 3
   },
   "file_extension": ".py",
   "mimetype": "text/x-python",
   "name": "python",
   "nbconvert_exporter": "python",
   "pygments_lexer": "ipython3",
   "version": "3.6.4"
  }
 },
 "nbformat": 4,
 "nbformat_minor": 2
}
